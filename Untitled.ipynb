{
 "cells": [
  {
   "cell_type": "code",
   "execution_count": 71,
   "metadata": {
    "collapsed": false
   },
   "outputs": [],
   "source": [
    "#Required libraires for the project\n",
    "import os\n",
    "import nltk\n",
    "import pandas as pd\n",
    "import numpy as np\n",
    "import matplotlib.pyplot as plt\n",
    "import matplotlib.pyplot as plt\n",
    "import re\n",
    "text_list=[]\n",
    "label_list=[]\n",
    "df = pd.DataFrame(columns=['Text','Label'])\n",
    "count=0\n",
    "for root, dirs, files in os.walk(\"/Users/prashanthimallijula/Documents/EECS738/project3/lingspam_public/bare/\"):\n",
    "    #os.path.join(root)\n",
    "    for  root, dirs, files in os.walk(root):\n",
    "            for file in files:\n",
    "                if count > 0:\n",
    "                    f = open(root+\"/\"+file, \"r\",encoding=\"utf8\", errors='ignore')\n",
    "                    text= f.read()\n",
    "                    if (file[0:4]==\"spms\"):\n",
    "                        lable= \"spam\"\n",
    "                    else:\n",
    "                        lable= \"not_spam\"\n",
    "                    f.close()\n",
    "                    text_list.append(text[8:])\n",
    "                    label_list.append(lable)\n",
    "\n",
    "            count=count+1\n",
    "df['Text']=text_list\n",
    "df['Label']=label_list"
   ]
  },
  {
   "cell_type": "code",
   "execution_count": 72,
   "metadata": {
    "collapsed": false
   },
   "outputs": [
    {
     "data": {
      "text/html": [
       "<div>\n",
       "<style scoped>\n",
       "    .dataframe tbody tr th:only-of-type {\n",
       "        vertical-align: middle;\n",
       "    }\n",
       "\n",
       "    .dataframe tbody tr th {\n",
       "        vertical-align: top;\n",
       "    }\n",
       "\n",
       "    .dataframe thead th {\n",
       "        text-align: right;\n",
       "    }\n",
       "</style>\n",
       "<table border=\"1\" class=\"dataframe\">\n",
       "  <thead>\n",
       "    <tr style=\"text-align: right;\">\n",
       "      <th></th>\n",
       "      <th>Text</th>\n",
       "      <th>Label</th>\n",
       "    </tr>\n",
       "  </thead>\n",
       "  <tbody>\n",
       "    <tr>\n",
       "      <th>0</th>\n",
       "      <td>job posting - apple-iss research center\\n\\nco...</td>\n",
       "      <td>not_spam</td>\n",
       "    </tr>\n",
       "    <tr>\n",
       "      <th>1</th>\n",
       "      <td>\\n\\nlang classification grimes , joseph e . a...</td>\n",
       "      <td>not_spam</td>\n",
       "    </tr>\n",
       "    <tr>\n",
       "      <th>2</th>\n",
       "      <td>query : letter frequencies for text identific...</td>\n",
       "      <td>not_spam</td>\n",
       "    </tr>\n",
       "    <tr>\n",
       "      <th>3</th>\n",
       "      <td>risk\\n\\na colleague and i are researching the...</td>\n",
       "      <td>not_spam</td>\n",
       "    </tr>\n",
       "    <tr>\n",
       "      <th>4</th>\n",
       "      <td>request book information\\n\\nearlier this morn...</td>\n",
       "      <td>not_spam</td>\n",
       "    </tr>\n",
       "  </tbody>\n",
       "</table>\n",
       "</div>"
      ],
      "text/plain": [
       "                                                Text     Label\n",
       "0   job posting - apple-iss research center\\n\\nco...  not_spam\n",
       "1   \\n\\nlang classification grimes , joseph e . a...  not_spam\n",
       "2   query : letter frequencies for text identific...  not_spam\n",
       "3   risk\\n\\na colleague and i are researching the...  not_spam\n",
       "4   request book information\\n\\nearlier this morn...  not_spam"
      ]
     },
     "execution_count": 72,
     "metadata": {},
     "output_type": "execute_result"
    }
   ],
   "source": [
    "df.head()"
   ]
  },
  {
   "cell_type": "code",
   "execution_count": 73,
   "metadata": {
    "collapsed": false
   },
   "outputs": [
    {
     "data": {
      "text/plain": [
       "array(['not_spam', 'spam'], dtype=object)"
      ]
     },
     "execution_count": 73,
     "metadata": {},
     "output_type": "execute_result"
    }
   ],
   "source": [
    "df['Label'].unique()"
   ]
  },
  {
   "cell_type": "code",
   "execution_count": 74,
   "metadata": {
    "collapsed": true
   },
   "outputs": [],
   "source": [
    "from nltk import word_tokenize\n",
    "df['Text'].dropna(inplace=True)\n",
    "df['tokenized_text'] =df['Text'].apply(word_tokenize)"
   ]
  },
  {
   "cell_type": "code",
   "execution_count": 57,
   "metadata": {
    "collapsed": false
   },
   "outputs": [
    {
     "data": {
      "text/plain": [
       "0    [job, posting, -, apple-iss, research, center,...\n",
       "1    [lang, classification, grimes, ,, joseph, e, ....\n",
       "2    [query, :, letter, frequencies, for, text, ide...\n",
       "3    [risk, a, colleague, and, i, are, researching,...\n",
       "4    [request, book, information, earlier, this, mo...\n",
       "Name: tokenized_text, dtype: object"
      ]
     },
     "execution_count": 57,
     "metadata": {},
     "output_type": "execute_result"
    }
   ],
   "source": [
    "df['tokenized_text'].head()"
   ]
  },
  {
   "cell_type": "code",
   "execution_count": 34,
   "metadata": {
    "collapsed": false
   },
   "outputs": [
    {
     "name": "stdout",
     "output_type": "stream",
     "text": [
      "[nltk_data] Downloading package stopwords to\n",
      "[nltk_data]     /Users/prashanthimallijula/nltk_data...\n",
      "[nltk_data]   Package stopwords is already up-to-date!\n"
     ]
    }
   ],
   "source": [
    "#Check stop words and special characters\n",
    "from nltk.corpus import stopwords\n",
    "nltk.download('stopwords')\n",
    "stop_words = stopwords.words('english')\n",
    "special=['!','@','#','$','%','^','&','*','(',')',':','<','>',',','.',';','{','}','|','_','-','+','=','`','~',\"--\",\"'\",'\"','[',']']"
   ]
  },
  {
   "cell_type": "code",
   "execution_count": 38,
   "metadata": {
    "collapsed": false
   },
   "outputs": [],
   "source": [
    "#Remove speacial characters\n",
    "for item  in df['tokenized_text']:\n",
    "    item_new=[]\n",
    "    for word in item:\n",
    "        word=str(word)\n",
    "        if (word in special) and (word.isalpha() == False):\n",
    "            item.remove(word)"
   ]
  },
  {
   "cell_type": "code",
   "execution_count": 40,
   "metadata": {
    "collapsed": false
   },
   "outputs": [
    {
     "data": {
      "text/html": [
       "<div>\n",
       "<style scoped>\n",
       "    .dataframe tbody tr th:only-of-type {\n",
       "        vertical-align: middle;\n",
       "    }\n",
       "\n",
       "    .dataframe tbody tr th {\n",
       "        vertical-align: top;\n",
       "    }\n",
       "\n",
       "    .dataframe thead th {\n",
       "        text-align: right;\n",
       "    }\n",
       "</style>\n",
       "<table border=\"1\" class=\"dataframe\">\n",
       "  <thead>\n",
       "    <tr style=\"text-align: right;\">\n",
       "      <th></th>\n",
       "      <th>Text</th>\n",
       "      <th>Label</th>\n",
       "      <th>tokenized_text</th>\n",
       "    </tr>\n",
       "  </thead>\n",
       "  <tbody>\n",
       "    <tr>\n",
       "      <th>0</th>\n",
       "      <td>job posting - apple-iss research center\\n\\nco...</td>\n",
       "      <td>NaN</td>\n",
       "      <td>[job, posting, apple-iss, research, center, co...</td>\n",
       "    </tr>\n",
       "    <tr>\n",
       "      <th>1</th>\n",
       "      <td>\\n\\nlang classification grimes , joseph e . a...</td>\n",
       "      <td>NaN</td>\n",
       "      <td>[lang, classification, grimes, joseph, e, and,...</td>\n",
       "    </tr>\n",
       "    <tr>\n",
       "      <th>2</th>\n",
       "      <td>query : letter frequencies for text identific...</td>\n",
       "      <td>NaN</td>\n",
       "      <td>[query, letter, frequencies, for, text, identi...</td>\n",
       "    </tr>\n",
       "    <tr>\n",
       "      <th>3</th>\n",
       "      <td>risk\\n\\na colleague and i are researching the...</td>\n",
       "      <td>NaN</td>\n",
       "      <td>[risk, a, colleague, and, i, are, researching,...</td>\n",
       "    </tr>\n",
       "    <tr>\n",
       "      <th>4</th>\n",
       "      <td>request book information\\n\\nearlier this morn...</td>\n",
       "      <td>NaN</td>\n",
       "      <td>[request, book, information, earlier, this, mo...</td>\n",
       "    </tr>\n",
       "  </tbody>\n",
       "</table>\n",
       "</div>"
      ],
      "text/plain": [
       "                                                Text Label  \\\n",
       "0   job posting - apple-iss research center\\n\\nco...   NaN   \n",
       "1   \\n\\nlang classification grimes , joseph e . a...   NaN   \n",
       "2   query : letter frequencies for text identific...   NaN   \n",
       "3   risk\\n\\na colleague and i are researching the...   NaN   \n",
       "4   request book information\\n\\nearlier this morn...   NaN   \n",
       "\n",
       "                                      tokenized_text  \n",
       "0  [job, posting, apple-iss, research, center, co...  \n",
       "1  [lang, classification, grimes, joseph, e, and,...  \n",
       "2  [query, letter, frequencies, for, text, identi...  \n",
       "3  [risk, a, colleague, and, i, are, researching,...  \n",
       "4  [request, book, information, earlier, this, mo...  "
      ]
     },
     "execution_count": 40,
     "metadata": {},
     "output_type": "execute_result"
    }
   ],
   "source": [
    "df.head()"
   ]
  },
  {
   "cell_type": "code",
   "execution_count": null,
   "metadata": {
    "collapsed": true
   },
   "outputs": [],
   "source": []
  }
 ],
 "metadata": {
  "kernelspec": {
   "display_name": "Python 3",
   "language": "python",
   "name": "python3"
  },
  "language_info": {
   "codemirror_mode": {
    "name": "ipython",
    "version": 3
   },
   "file_extension": ".py",
   "mimetype": "text/x-python",
   "name": "python",
   "nbconvert_exporter": "python",
   "pygments_lexer": "ipython3",
   "version": "3.6.0"
  }
 },
 "nbformat": 4,
 "nbformat_minor": 2
}
